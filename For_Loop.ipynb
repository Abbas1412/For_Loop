{
 "cells": [
  {
   "cell_type": "code",
   "execution_count": 1,
   "id": "bea3c769-2f42-4ec3-aa0a-420320246b1a",
   "metadata": {},
   "outputs": [],
   "source": [
    "#********************************************************************************************************#\n",
    "#************************************** BASIC LEVEL PROBLEMS ********************************************#\n",
    "#********************************************************************************************************#"
   ]
  },
  {
   "cell_type": "code",
   "execution_count": 3,
   "id": "a819f109-45af-4b7b-96c7-6401fc17532c",
   "metadata": {},
   "outputs": [
    {
     "name": "stdout",
     "output_type": "stream",
     "text": [
      "1 2 3 4 5 6 7 8 9 10 "
     ]
    }
   ],
   "source": [
    "# 1. Write a Python program to print the numbers from 1 to 10 using a `for` loop.\n",
    "\n",
    "#Code:-\n",
    "\n",
    "for i in range(1,11):\n",
    "    print(i, end = ' ')"
   ]
  },
  {
   "cell_type": "code",
   "execution_count": 5,
   "id": "58254daa-fb8c-4d48-b0f0-01a29cae7a72",
   "metadata": {},
   "outputs": [
    {
     "data": {
      "text/plain": [
       "55"
      ]
     },
     "execution_count": 5,
     "metadata": {},
     "output_type": "execute_result"
    }
   ],
   "source": [
    "# 2. Create a program that calculates the sum of all numbers in a list using a `for` loop.\n",
    "\n",
    "#Code:-\n",
    "\n",
    "_list = [1,2,3,4,5,6,7,8,9,10]\n",
    "Sum = 0\n",
    "for i in _list:\n",
    "    Sum += i\n",
    "    \n",
    "Sum"
   ]
  },
  {
   "cell_type": "code",
   "execution_count": 25,
   "id": "45510f67-4469-4c73-b0c8-bcf133c78852",
   "metadata": {},
   "outputs": [
    {
     "name": "stdout",
     "output_type": "stream",
     "text": [
      "NIMAZ"
     ]
    }
   ],
   "source": [
    "# 3. Write a program to print the characters of a string in reverse order using a `for` loop.\n",
    "\n",
    "#Code:-\n",
    "\n",
    "s = \"ZAMIN\"\n",
    "\n",
    "for i in range(len(s)-1, -1, -1):\n",
    "    print(s[i], end = '')"
   ]
  },
  {
   "cell_type": "code",
   "execution_count": 28,
   "id": "bd2070cb-bff1-473b-89d3-fb257c4fddcf",
   "metadata": {},
   "outputs": [
    {
     "data": {
      "text/plain": [
       "120"
      ]
     },
     "execution_count": 28,
     "metadata": {},
     "output_type": "execute_result"
    }
   ],
   "source": [
    "# 4. Develop a program that finds the factorial of a given number using a `for` loop.\n",
    "\n",
    "#Code:-\n",
    "\n",
    "n = 5\n",
    "fact = 1\n",
    "for i in range(n,0,-1):\n",
    "    fact *= i\n",
    "fact"
   ]
  },
  {
   "cell_type": "code",
   "execution_count": 32,
   "id": "23bf8199-5ada-4476-a7f4-7ab24a812ede",
   "metadata": {},
   "outputs": [
    {
     "name": "stdin",
     "output_type": "stream",
     "text": [
      "Enter the Number Table of which you want to find 12\n"
     ]
    },
    {
     "name": "stdout",
     "output_type": "stream",
     "text": [
      "\n",
      "12 * 1 = 12\n",
      "\n",
      "12 * 2 = 24\n",
      "\n",
      "12 * 3 = 36\n",
      "\n",
      "12 * 4 = 48\n",
      "\n",
      "12 * 5 = 60\n",
      "\n",
      "12 * 6 = 72\n",
      "\n",
      "12 * 7 = 84\n",
      "\n",
      "12 * 8 = 96\n",
      "\n",
      "12 * 9 = 108\n",
      "\n",
      "12 * 10 = 120\n"
     ]
    }
   ],
   "source": [
    "# 5. Create a program to print the multiplication table of a given number using a `for` loop.\n",
    "\n",
    "#Code:-\n",
    "\n",
    "n = int(input(\"Enter the Number Table of which you want to find\"))\n",
    "\n",
    "for i in range(1,11):\n",
    "    print(f\"\\n{n} * {i} = {n * i}\")"
   ]
  },
  {
   "cell_type": "code",
   "execution_count": 37,
   "id": "4f1e049b-d1a0-477a-affb-35bcde767d06",
   "metadata": {},
   "outputs": [
    {
     "name": "stdout",
     "output_type": "stream",
     "text": [
      "Total Even Numbers: 5 \n",
      "Total Odd  Numbers: 5\n"
     ]
    }
   ],
   "source": [
    "# 6. Write a program that counts the number of even and odd numbers in a list using a `for` loop.\n",
    "\n",
    "#Code:-\n",
    "\n",
    "l = [1,2,3,4,5,6,7,8,9,10]\n",
    "\n",
    "Even_Count = 0\n",
    "Odd_Count = 0\n",
    "\n",
    "for i in l:\n",
    "    if(i%2==0):\n",
    "        Even_Count += 1\n",
    "    else:\n",
    "        Odd_Count += 1\n",
    "        \n",
    "print(f\"Total Even Numbers: {Even_Count} \\nTotal Odd  Numbers: {Odd_Count}\")"
   ]
  },
  {
   "cell_type": "code",
   "execution_count": 40,
   "id": "ea829fec-83f5-4675-b6f0-7be42a9a1b6d",
   "metadata": {},
   "outputs": [
    {
     "name": "stdout",
     "output_type": "stream",
     "text": [
      "1 4 9 16 25 "
     ]
    }
   ],
   "source": [
    "# 7. Develop a program that prints the squares of numbers from 1 to 5 using a `for` loop.\n",
    "\n",
    "#Code:-\n",
    "\n",
    "for i in range(1,6):\n",
    "    print(i**2, end = ' ')"
   ]
  },
  {
   "cell_type": "code",
   "execution_count": 42,
   "id": "2d58377f-df28-4efb-8868-dcea1055549f",
   "metadata": {},
   "outputs": [
    {
     "data": {
      "text/plain": [
       "11"
      ]
     },
     "execution_count": 42,
     "metadata": {},
     "output_type": "execute_result"
    }
   ],
   "source": [
    "# 8. Create a program to find the length of a string without using the `len()` function.\n",
    "\n",
    "#Code:-\n",
    "\n",
    "s = \"ZAMIN ABBAS\"\n",
    "Length = 0\n",
    "\n",
    "for i in s:\n",
    "    Length += 1\n",
    "    \n",
    "Length"
   ]
  },
  {
   "cell_type": "code",
   "execution_count": 45,
   "id": "70a70e98-5774-4d4b-b3e7-7d170c9c4209",
   "metadata": {},
   "outputs": [
    {
     "data": {
      "text/plain": [
       "5.5"
      ]
     },
     "execution_count": 45,
     "metadata": {},
     "output_type": "execute_result"
    }
   ],
   "source": [
    "# 9. Write a program that calculates the average of a list of numbers using a `for` loop.\n",
    "\n",
    "#Code:-\n",
    "\n",
    "_list = [1,2,3,4,5,6,7,8,9,10]\n",
    "Sum = 0\n",
    "Count = 0\n",
    "for i in _list:\n",
    "    Sum += i\n",
    "    Count += 1\n",
    "    \n",
    "Sum/Count"
   ]
  },
  {
   "cell_type": "code",
   "execution_count": 51,
   "id": "60511fab-98fe-46d8-b45c-a85e9a1a729b",
   "metadata": {},
   "outputs": [
    {
     "name": "stdin",
     "output_type": "stream",
     "text": [
      "Enter nth term till which you wanna generate fibonacci 10\n"
     ]
    },
    {
     "name": "stdout",
     "output_type": "stream",
     "text": [
      "0 1 1 2 3 5 8 13 21 34 55 89 "
     ]
    }
   ],
   "source": [
    "# 10. Develop a program that prints the first `n` Fibonacci numbers using a `for` loop.\n",
    "\n",
    "#Code:-\n",
    "\n",
    "n = int(input(\"Enter nth term till which you wanna generate fibonacci\"))\n",
    "\n",
    "a = 0\n",
    "b = 1\n",
    "print(a,b, end = ' ')\n",
    "for i in range(0, n):\n",
    "    print(a+b,end = ' ')\n",
    "    temp = a\n",
    "    a = b\n",
    "    b = temp + b"
   ]
  },
  {
   "cell_type": "code",
   "execution_count": 52,
   "id": "ad083e98-73e5-4013-b924-f94e15d8daaa",
   "metadata": {},
   "outputs": [],
   "source": [
    "#***************************************************************************************************#\n",
    "#********************************* INTERMEDIATE LEVEL PROBLEM **************************************#\n",
    "#***************************************************************************************************#"
   ]
  },
  {
   "cell_type": "code",
   "execution_count": 12,
   "id": "cdb549c9-76ef-4b30-b1e2-9e9e8f82c42e",
   "metadata": {},
   "outputs": [
    {
     "name": "stdout",
     "output_type": "stream",
     "text": [
      "List Contains Duplicates\n"
     ]
    }
   ],
   "source": [
    "# 11. Write a program to check if a given list contains any duplicates using a `for` loop.\n",
    "\n",
    "#Code:-\n",
    "\n",
    "l = [1,2,3,3]\n",
    "check = False\n",
    "for i in range(0, len(l)):\n",
    "    \n",
    "    for j in range(i+1, len(l)):\n",
    "        if(l[i] == l[j]):\n",
    "            check = True\n",
    "            break     \n",
    "            \n",
    "    if (check == True):\n",
    "        break\n",
    "               \n",
    "if check == True:\n",
    "    print(\"List Contains Duplicates\")\n",
    "    \n",
    "else:\n",
    "    print(\"List Don't Contain any Duplicate\")"
   ]
  },
  {
   "cell_type": "code",
   "execution_count": 6,
   "id": "219749ca-529c-464a-92e2-30170df76866",
   "metadata": {},
   "outputs": [
    {
     "name": "stdin",
     "output_type": "stream",
     "text": [
      "Enter range:  20\n"
     ]
    },
    {
     "name": "stdout",
     "output_type": "stream",
     "text": [
      "\n",
      "2 3 5 7 11 13 17 19 "
     ]
    }
   ],
   "source": [
    "# 12. Create a program that prints the prime numbers in a given range using a `for` loop.\n",
    "\n",
    "#Code:-\n",
    "\n",
    "Range = int(input(\"Enter range: \"))\n",
    "print()\n",
    "\n",
    "for i in range(2, Range):\n",
    "    \n",
    "    check = True\n",
    "    \n",
    "    for j in range(2, int(i**0.5)+1):\n",
    "        \n",
    "        if(i % j == 0):\n",
    "            check = False\n",
    "            break;\n",
    "           \n",
    "    if check == True:\n",
    "        print(i, end = ' ')"
   ]
  },
  {
   "cell_type": "code",
   "execution_count": 17,
   "id": "1023d6cc-adce-45c4-b71d-bfe1f3f2b4fe",
   "metadata": {},
   "outputs": [
    {
     "data": {
      "text/plain": [
       "3"
      ]
     },
     "execution_count": 17,
     "metadata": {},
     "output_type": "execute_result"
    }
   ],
   "source": [
    "# 13. Develop a program that counts the number of vowels in a string using a `for` loop.\n",
    "\n",
    "#Code:-\n",
    "\n",
    "s = \"I am back\"\n",
    "\n",
    "s = s.lower()\n",
    "count = 0\n",
    "for i in range(0,len(s)):\n",
    "    if(s[i] == 'a') or (s[i] == 'e') or (s[i] == 'i') or (s[i] == 'o') or (s[i] == 'u'):\n",
    "        count += 1\n",
    "        \n",
    "count"
   ]
  },
  {
   "cell_type": "code",
   "execution_count": 3,
   "id": "594cf1ca-6515-4bd7-b52c-fd700428323e",
   "metadata": {},
   "outputs": [
    {
     "data": {
      "text/plain": [
       "232"
      ]
     },
     "execution_count": 3,
     "metadata": {},
     "output_type": "execute_result"
    }
   ],
   "source": [
    "# 14. Write a program to find the maximum element in a 2D list using a nested `for` loop.\n",
    "\n",
    "#Code:-\n",
    "\n",
    "Matrix = [[1,33,2], [3,45,232], [6,7,8]]\n",
    "\n",
    "Max = float('-inf')\n",
    "\n",
    "for i in range(0,3):\n",
    "    \n",
    "    for j in range(0,3):\n",
    "        \n",
    "        if(Max < Matrix[i][j]):\n",
    "            Max = Matrix[i][j]\n",
    "\n",
    "Max"
   ]
  },
  {
   "cell_type": "code",
   "execution_count": 24,
   "id": "8180226a-3bfc-4f4d-918f-0e6085df1360",
   "metadata": {},
   "outputs": [
    {
     "data": {
      "text/plain": [
       "[1, 2, 3, 6, 6, 3, 6]"
      ]
     },
     "execution_count": 24,
     "metadata": {},
     "output_type": "execute_result"
    }
   ],
   "source": [
    "# 15. Create a program that removes all occurrences of a specific element from a list using a `for` loop.\n",
    "\n",
    "#Code:-\n",
    "\n",
    "n = 5\n",
    "\n",
    "l = [1,2,3,5,6,5,6,3,6]\n",
    "\n",
    "for i in range(len(l)):\n",
    "    \n",
    "    if n in l:\n",
    "        l.remove(n)\n",
    "\n",
    "l"
   ]
  },
  {
   "cell_type": "code",
   "execution_count": 9,
   "id": "044f186c-e830-4182-a7b7-7c01a605893b",
   "metadata": {},
   "outputs": [
    {
     "name": "stdout",
     "output_type": "stream",
     "text": [
      "1 * 1 = 1\n",
      "1 * 2 = 2\n",
      "1 * 3 = 3\n",
      "1 * 4 = 4\n",
      "1 * 5 = 5\n",
      "1 * 6 = 6\n",
      "1 * 7 = 7\n",
      "1 * 8 = 8\n",
      "1 * 9 = 9\n",
      "1 * 10 = 10\n",
      "\n",
      "\n",
      "\n",
      "2 * 1 = 2\n",
      "2 * 2 = 4\n",
      "2 * 3 = 6\n",
      "2 * 4 = 8\n",
      "2 * 5 = 10\n",
      "2 * 6 = 12\n",
      "2 * 7 = 14\n",
      "2 * 8 = 16\n",
      "2 * 9 = 18\n",
      "2 * 10 = 20\n",
      "\n",
      "\n",
      "\n",
      "3 * 1 = 3\n",
      "3 * 2 = 6\n",
      "3 * 3 = 9\n",
      "3 * 4 = 12\n",
      "3 * 5 = 15\n",
      "3 * 6 = 18\n",
      "3 * 7 = 21\n",
      "3 * 8 = 24\n",
      "3 * 9 = 27\n",
      "3 * 10 = 30\n",
      "\n",
      "\n",
      "\n",
      "4 * 1 = 4\n",
      "4 * 2 = 8\n",
      "4 * 3 = 12\n",
      "4 * 4 = 16\n",
      "4 * 5 = 20\n",
      "4 * 6 = 24\n",
      "4 * 7 = 28\n",
      "4 * 8 = 32\n",
      "4 * 9 = 36\n",
      "4 * 10 = 40\n",
      "\n",
      "\n",
      "\n",
      "5 * 1 = 5\n",
      "5 * 2 = 10\n",
      "5 * 3 = 15\n",
      "5 * 4 = 20\n",
      "5 * 5 = 25\n",
      "5 * 6 = 30\n",
      "5 * 7 = 35\n",
      "5 * 8 = 40\n",
      "5 * 9 = 45\n",
      "5 * 10 = 50\n",
      "\n",
      "\n",
      "\n"
     ]
    }
   ],
   "source": [
    "# 16. Develop a program that generates a multiplication table for numbers from 1 to 5 using a nested `for` loop.\n",
    "\n",
    "#Code:-\n",
    "\n",
    "\n",
    "for i in range(1,6):\n",
    "    \n",
    "    for j in range(1,11):\n",
    "        \n",
    "        print(f\"{i} * {j} = {i*j}\")\n",
    "        \n",
    "    print(\"\\n\\n\")"
   ]
  },
  {
   "cell_type": "code",
   "execution_count": 11,
   "id": "9990cfd4-317e-4919-9b34-a03ee19dcbac",
   "metadata": {},
   "outputs": [
    {
     "data": {
      "text/plain": [
       "[0.0, 0.5555555555555556, 115.55555555555556, -5.0, 43.333333333333336]"
      ]
     },
     "execution_count": 11,
     "metadata": {},
     "output_type": "execute_result"
    }
   ],
   "source": [
    "# 17. Write a program that converts a list of Fahrenheit temperatures to Celsius using a `for` loop.\n",
    "\n",
    "#Code:-\n",
    "\n",
    "fahrenheit = [32,33,240,23,110]\n",
    "\n",
    "celcius = []\n",
    "\n",
    "for i in range(0,len(fahrenheit)):\n",
    "    \n",
    "    celcius.append(((fahrenheit[i] - 32) * 5/9))\n",
    "\n",
    "celcius"
   ]
  },
  {
   "cell_type": "code",
   "execution_count": 9,
   "id": "fe957aa2-b2c0-4f3c-a2bc-ba8a83ace7f1",
   "metadata": {},
   "outputs": [
    {
     "name": "stdout",
     "output_type": "stream",
     "text": [
      "2\n",
      "3\n",
      "4\n",
      "5\n",
      "6\n"
     ]
    }
   ],
   "source": [
    "# 18. Create a program to print the common elements from two lists using a `for` loop.\n",
    "\n",
    "#Code:-\n",
    "\n",
    "l1 = [1,2,3,3,4,5,6]\n",
    "\n",
    "l2 = [2,3,4,4,5,55,6,6]\n",
    "\n",
    "Map = {}\n",
    "\n",
    "Max_Length = len(l2) if len(l1) < len(l2) else len(l1)\n",
    "\n",
    "for i in range(Max_Length):\n",
    "    Map[i] = False\n",
    "    \n",
    "\n",
    "for i in range(len(l1)):\n",
    "    \n",
    "    for j in range(len(l2)):\n",
    "        \n",
    "        if(l1[i] == l2[j] and Map[l1[i]] == False):\n",
    "            Map[l1[i]] = True\n",
    "            print(l1[i])"
   ]
  },
  {
   "cell_type": "code",
   "execution_count": 3,
   "id": "cd5b5f22-e220-4223-859f-c416e9c45c0d",
   "metadata": {},
   "outputs": [
    {
     "name": "stdout",
     "output_type": "stream",
     "text": [
      "* \n",
      "* * \n",
      "* * * \n",
      "* * * * \n",
      "* * * * * \n"
     ]
    }
   ],
   "source": [
    "# 19. Develop a program that prints the pattern of right-angled triangles using a `for` loop. Use ‘*’ to draw the pattern.\n",
    "\n",
    "#Code:-\n",
    "\n",
    "for i in range(1,6):\n",
    "    for j in range(i):\n",
    "        print('*', end = ' ')\n",
    "    print()\n"
   ]
  },
  {
   "cell_type": "code",
   "execution_count": 6,
   "id": "fcec9687-1551-41eb-a6c8-0ced38f77b15",
   "metadata": {},
   "outputs": [
    {
     "name": "stdin",
     "output_type": "stream",
     "text": [
      "Enter First Number 48\n",
      "Enter second Number 18\n"
     ]
    },
    {
     "name": "stdout",
     "output_type": "stream",
     "text": [
      "\n",
      " 6\n"
     ]
    }
   ],
   "source": [
    "# 20. Write a program to find the greatest common divisor (GCD) of two numbers using a `for` loop.\n",
    "\n",
    "#Code:-\n",
    "\n",
    "a = int(input(\"Enter First Number\"))\n",
    "\n",
    "b = int(input(\"Enter second Number\"))\n",
    "\n",
    "if b > a:\n",
    "    a,b = b,a\n",
    "    \n",
    "gcd = 1\n",
    "\n",
    "for i in range(2, b+1):\n",
    "    if((a % i == 0) and (b % i == 0)):\n",
    "        gcd = i\n",
    "        \n",
    "\n",
    "print(f\"\\n\", gcd)"
   ]
  },
  {
   "cell_type": "code",
   "execution_count": null,
   "id": "4688536a-53e0-44ab-a015-8d3f70703a6e",
   "metadata": {},
   "outputs": [],
   "source": [
    "#**************************************************************************************************#\n",
    "#************************************** ADVANCED LEVEL PROBLEM ************************************#\n",
    "#**************************************************************************************************#"
   ]
  },
  {
   "cell_type": "code",
   "execution_count": 4,
   "id": "a4093e94-2e53-4ddd-a391-173fc237d153",
   "metadata": {},
   "outputs": [
    {
     "data": {
      "text/plain": [
       "[2, 2, 9, 3, 7, 10]"
      ]
     },
     "execution_count": 4,
     "metadata": {},
     "output_type": "execute_result"
    }
   ],
   "source": [
    "# 21. Create a program that calculates the sum of the digits of numbers in a list using a list comprehension.\n",
    "\n",
    "#Code:-\n",
    "\n",
    "l = [11,2,27,3,43,55]\n",
    "\n",
    "digits_sum = [sum(int(digit) for digit in str(num) if digit.isdigit()) for num in l]\n",
    "\n",
    "digits_sum"
   ]
  },
  {
   "cell_type": "code",
   "execution_count": 21,
   "id": "8e8e6434-66a1-467d-ac42-16b1c0f09395",
   "metadata": {},
   "outputs": [
    {
     "data": {
      "text/plain": [
       "[2, 2, 2, 13]"
      ]
     },
     "execution_count": 21,
     "metadata": {},
     "output_type": "execute_result"
    }
   ],
   "source": [
    "# 22. Write a program to find the prime factors of a given number using a `for` loop and list comprehension.\n",
    "\n",
    "# Code:-\n",
    "\n",
    "num = 104\n",
    "prime_factors = []\n",
    "\n",
    "\n",
    "while(num % 2 == 0):\n",
    "    prime_factors.append(2)\n",
    "    num = num//2\n",
    "    \n",
    "    \n",
    "if(num != 0):\n",
    "    for i in range(3, int(num**0.5)+1, 2):\n",
    "        while(num % i == 0):\n",
    "            prime_factors.append(i)\n",
    "            num = num//i\n",
    "            \n",
    "            \n",
    "if(num > 2):\n",
    "    prime_factors.append(num)\n",
    "    \n",
    "\n",
    "prime_factors"
   ]
  },
  {
   "cell_type": "code",
   "execution_count": 26,
   "id": "763c5aef-eea5-4858-ae82-a8d8e0316701",
   "metadata": {},
   "outputs": [
    {
     "data": {
      "text/plain": [
       "[1, 3, 4, 5, 6, 8]"
      ]
     },
     "execution_count": 26,
     "metadata": {},
     "output_type": "execute_result"
    }
   ],
   "source": [
    "# 23. Develop a program that extracts unique elements from a list and stores them in a new list using a list comprehension.\n",
    "\n",
    "#Code:-\n",
    "\n",
    "l = [1,2,2,2,3,4,5,6,7,7,8,9,9]\n",
    "\n",
    "Unique_Elements = [i for i in l if l.count(i) == 1]\n",
    "\n",
    "Unique_Elements"
   ]
  },
  {
   "cell_type": "code",
   "execution_count": 37,
   "id": "0d8250fb-9d33-473b-8adb-61950d08f058",
   "metadata": {},
   "outputs": [
    {
     "data": {
      "text/plain": [
       "[121, 212, 3223, 55, 6, 7, 888, 99]"
      ]
     },
     "execution_count": 37,
     "metadata": {},
     "output_type": "execute_result"
    }
   ],
   "source": [
    "# 24. Create a program that generates a list of all palindromic numbers up to a specified limit using a list comprehension.\n",
    "\n",
    "#Code:-\n",
    "\n",
    "l = [121,12,212,3223,55,6,7,888,99,10]\n",
    "\n",
    "palindromic_Numbers = [num for num in l if(str(num)[::-1] == str(num))]\n",
    "\n",
    "palindromic_Numbers"
   ]
  },
  {
   "cell_type": "code",
   "execution_count": 74,
   "id": "9426dea7-cb40-4b2b-aa48-0b6683ac4a01",
   "metadata": {},
   "outputs": [
    {
     "data": {
      "text/plain": [
       "[1, 2, 3, 1, 2, 3]"
      ]
     },
     "execution_count": 74,
     "metadata": {},
     "output_type": "execute_result"
    }
   ],
   "source": [
    "# 25. Write a program to flatten a nested list using list comprehension.\n",
    "\n",
    "#Code:-\n",
    "\n",
    "l = [[1,2,3],[1,2,3]]\n",
    "\n",
    "flatten_list = [item for sublist in l for item in (sublist if isinstance(sublist,list) else [sublist])]\n",
    "\n",
    "flatten_list"
   ]
  },
  {
   "cell_type": "code",
   "execution_count": 44,
   "id": "6e00a02c-18ca-42c5-a2ea-812df2c23994",
   "metadata": {},
   "outputs": [
    {
     "name": "stdout",
     "output_type": "stream",
     "text": [
      "Even Sum of list is 24\n",
      "Odd Sum of list is 41\n"
     ]
    }
   ],
   "source": [
    "# 26. Develop a program that computes the sum of even and odd numbers in a list separately using list comprehension.\n",
    "\n",
    "#Code:-\n",
    "\n",
    "l = [1,2,2,2,3,4,5,6,7,7,8,9,9]\n",
    "\n",
    "Even_Sum = sum(num for num in l if(num % 2 == 0))\n",
    "\n",
    "Odd_Sum = sum(num for num in l if(num % 2 != 0))\n",
    "\n",
    "print(f\"Even Sum of list is {Even_Sum}\\nOdd Sum of list is {Odd_Sum}\")"
   ]
  },
  {
   "cell_type": "code",
   "execution_count": 47,
   "id": "6b88efaf-261d-46ab-b39b-2a87cbbc7f0c",
   "metadata": {},
   "outputs": [
    {
     "data": {
      "text/plain": [
       "[1, 9, 25, 49, 49, 81, 81]"
      ]
     },
     "execution_count": 47,
     "metadata": {},
     "output_type": "execute_result"
    }
   ],
   "source": [
    "# 27. Create a program that generates a list of squares of odd numbers between 1 and 10 using list comprehension.\n",
    "\n",
    "#Code:-\n",
    "\n",
    "l = [1,2,2,2,3,4,5,6,7,7,8,9,9]\n",
    "\n",
    "odd_squares = [i**2 for i in l if(i % 2 != 0)]\n",
    "\n",
    "odd_squares"
   ]
  },
  {
   "cell_type": "code",
   "execution_count": 75,
   "id": "c6d5e61e-6b9d-4a75-96c6-24d594978c13",
   "metadata": {},
   "outputs": [
    {
     "data": {
      "text/plain": [
       "{'A': 'Apple', 'B': 'Ball', 'C': 'Cat'}"
      ]
     },
     "execution_count": 75,
     "metadata": {},
     "output_type": "execute_result"
    }
   ],
   "source": [
    "# 28. Write a program that combines two lists into a dictionary using list comprehension.\n",
    "\n",
    "#Code:-\n",
    "\n",
    "key = ['A','B','C']\n",
    "\n",
    "values = [\"Apple\",\"Ball\",\"Cat\"]\n",
    "\n",
    "combined_Dict = {k:v for k,v in zip(key,values)}\n",
    "\n",
    "combined_Dict"
   ]
  },
  {
   "cell_type": "code",
   "execution_count": 48,
   "id": "b3539abd-c80f-4d67-8467-4de237a34945",
   "metadata": {},
   "outputs": [
    {
     "data": {
      "text/plain": [
       "['a', 'i', 'A', 'a']"
      ]
     },
     "execution_count": 48,
     "metadata": {},
     "output_type": "execute_result"
    }
   ],
   "source": [
    "# 29. Develop a program that extracts the vowels from a string and stores them in a list using list comprehension.\n",
    "\n",
    "#Code:-\n",
    "\n",
    "s = \"Zamin Abbas\"\n",
    "\n",
    "Vowel_List = [i for i in s if i.lower() == 'a' or i.lower() == 'e' or i.lower() == 'i' or i.lower() == 'o' or i.lower() == 'u']\n",
    "\n",
    "Vowel_List"
   ]
  },
  {
   "cell_type": "code",
   "execution_count": 56,
   "id": "7b2c7d9a-94df-47c4-916c-cd3a0af1de07",
   "metadata": {},
   "outputs": [
    {
     "data": {
      "text/plain": [
       "['0', '8', '4']"
      ]
     },
     "execution_count": 56,
     "metadata": {},
     "output_type": "execute_result"
    }
   ],
   "source": [
    "# 30. Create a program that removes all non-numeric characters from a list of strings using list comprehension.\n",
    "\n",
    "#Code:-\n",
    "\n",
    "l = ['z','a','m','i','n','0','8','4']\n",
    "\n",
    "l = [i for i in l if(i.isdigit())]\n",
    "\n",
    "l"
   ]
  },
  {
   "cell_type": "code",
   "execution_count": 57,
   "id": "1dd0687d-36a8-4cde-adad-1aa6d2a5a1fd",
   "metadata": {},
   "outputs": [],
   "source": [
    "#*****************************************************************************************************#\n",
    "#************************************ CHALLENGE LEVEL PROBLEMS ***************************************#\n",
    "#*****************************************************************************************************#"
   ]
  },
  {
   "cell_type": "code",
   "execution_count": 11,
   "id": "b5f166cd-372f-4720-b0b9-2aab2abb554c",
   "metadata": {},
   "outputs": [
    {
     "name": "stdin",
     "output_type": "stream",
     "text": [
      "\n",
      "Enter limit till which you want to generate prime numbers:  50\n"
     ]
    },
    {
     "data": {
      "text/plain": [
       "[2, 3, 5, 7, 11, 13, 17, 19, 23, 29, 31, 37, 41, 43, 47]"
      ]
     },
     "execution_count": 11,
     "metadata": {},
     "output_type": "execute_result"
    }
   ],
   "source": [
    "#31.Write a program to generate a list of prime numbers using the Sieve of Eratosthenes algorithm and list comprehension.\n",
    "\n",
    "#Code:-\n",
    "\n",
    "n = int(input(\"\\nEnter limit till which you want to generate prime numbers: \"))\n",
    "\n",
    "prime = [True] * (n+1)\n",
    "\n",
    "prime[0] = prime[1] = False\n",
    "\n",
    "for i in range(2, int(n**0.5)+1):\n",
    "    \n",
    "    for p in range(i*i, n+1, i):\n",
    "        prime[p] = False\n",
    "    \n",
    "\n",
    "prime_numbers = [i for i in range(n) if prime[i] == True]\n",
    "\n",
    "prime_numbers"
   ]
  },
  {
   "cell_type": "code",
   "execution_count": 7,
   "id": "be0289a4-a175-4d46-bb18-b94e2046d00f",
   "metadata": {},
   "outputs": [
    {
     "name": "stdin",
     "output_type": "stream",
     "text": [
      "Enter limit for generating pythagorean triplets 20\n"
     ]
    },
    {
     "data": {
      "text/plain": [
       "[(3, 4, 5), (5, 12, 13), (6, 8, 10), (8, 15, 17), (9, 12, 15)]"
      ]
     },
     "execution_count": 7,
     "metadata": {},
     "output_type": "execute_result"
    }
   ],
   "source": [
    "#32. Create a program that generates a list of all Pythagorean triplets up to a specified limit using list comprehension.\n",
    "\n",
    "#Code:-\n",
    "\n",
    "limit = int(input(\"Enter limit for generating pythagorean triplets\"))\n",
    "\n",
    "Pythagorean_Triplets = [(a,b,c) for a in range(1,limit) for b in range(a,limit) for c in range(b, limit) if(a**2 + b**2 == c**2)]\n",
    "\n",
    "Pythagorean_Triplets"
   ]
  },
  {
   "cell_type": "code",
   "execution_count": 16,
   "id": "fe6cd097-b48c-42a8-9305-451ff93b5fa8",
   "metadata": {},
   "outputs": [
    {
     "data": {
      "text/plain": [
       "[(1, 'A'), (1, 'B'), (2, 'A'), (2, 'B'), (3, 'A'), (3, 'B')]"
      ]
     },
     "execution_count": 16,
     "metadata": {},
     "output_type": "execute_result"
    }
   ],
   "source": [
    "# 33. Develop a program that generates a list of all possible combinations of two lists using list comprehension.\n",
    "\n",
    "#Code:-\n",
    "\n",
    "import itertools\n",
    "\n",
    "list1 = [1,2,3]\n",
    "\n",
    "list2 = ['A','B']\n",
    "\n",
    "combinations = [(x,y) for x,y in itertools.product(list1,list2)]\n",
    "\n",
    "combinations"
   ]
  },
  {
   "cell_type": "code",
   "execution_count": 19,
   "id": "2670a98a-df80-41b4-bb53-d2dd0d5134a5",
   "metadata": {},
   "outputs": [
    {
     "name": "stdout",
     "output_type": "stream",
     "text": [
      "Mean of list: 4.8\n",
      "Median of list: 3.0\n",
      "Mode of list: 3\n"
     ]
    }
   ],
   "source": [
    "# 34. Write a program that calculates the mean, median, and mode of a list of numbers using list comprehension.\n",
    "\n",
    "#Code:-\n",
    "\n",
    "l = [1,2,23,2,2,3,3,3,4,5]\n",
    "\n",
    "Total_Sum = sum(i for i in l)\n",
    "\n",
    "Total_Count = sum(1 for i in l)\n",
    "\n",
    "Middle = int(Total_Count/2)\n",
    "\n",
    "\n",
    "Mean = Total_Sum/Total_Count\n",
    "\n",
    "if(Total_Count % 2 == 0):\n",
    "    Median = (l[Middle] + l[Middle+1]) /2\n",
    "    \n",
    "else:\n",
    "    Median = l[Middle]\n",
    "    \n",
    "\n",
    "countList = [l.count(i) for i in l]\n",
    "\n",
    "Mode = max(countList)\n",
    "\n",
    "print(f\"Mean of list: {Mean}\\nMedian of list: {Median}\\nMode of list: {Mode}\")"
   ]
  },
  {
   "cell_type": "code",
   "execution_count": null,
   "id": "0c39bcef-f628-4c53-80ef-a8c06de21d4b",
   "metadata": {},
   "outputs": [],
   "source": [
    "# 35. Create a program that generates Pascal's triangle up to a specified number of rows using list comprehension.\n",
    "\n",
    "#Code:-\n",
    "\n",
    "#Enter number of rows\n",
    "rows_num = int(input(\"Enter number of rows: \"))\n",
    "\n",
    "#Declaring a triangle\n",
    "\n",
    "triangle = [[1]]\n",
    "\n",
    "for i in range(1, rows_num):\n",
    "    \n",
    "    next_row = [1] + [triangle[i-1][j-1] + triangle[i-1][j] for j in range(1,i)] + [1]\n",
    "    triangle.append(next_row)\n",
    "\n",
    "\n",
    "for row in triangle:\n",
    "    print(' '.join(map(str, row)).center(rows_num *3))\n"
   ]
  },
  {
   "cell_type": "code",
   "execution_count": 8,
   "id": "e7f4d66b-4de7-4a7b-b799-ef67dfdb3a01",
   "metadata": {},
   "outputs": [
    {
     "data": {
      "text/plain": [
       "[1, 1, 2, 6, 6, 3]"
      ]
     },
     "execution_count": 8,
     "metadata": {},
     "output_type": "execute_result"
    }
   ],
   "source": [
    "#36. Develop a program that calculates the sum of the digits of a factorial of numbers from 1 to 5 using list comprehension.\n",
    "\n",
    "#Code:-\n",
    "\n",
    "factorials = [1]\n",
    "\n",
    "for i in range(1,6):\n",
    "    factorials.append(factorials[-1] * i)\n",
    "    \n",
    "\n",
    "Digits_Sum = [sum(int(digit) for digit in str(factorial))  for factorial in factorials ]\n",
    "\n",
    "Digits_Sum"
   ]
  },
  {
   "cell_type": "code",
   "execution_count": 9,
   "id": "c25c4c00-3288-4e39-951b-6805f4b9a025",
   "metadata": {},
   "outputs": [
    {
     "data": {
      "text/plain": [
       "'sentence'"
      ]
     },
     "execution_count": 9,
     "metadata": {},
     "output_type": "execute_result"
    }
   ],
   "source": [
    "# 37. Write a program that finds the longest word in a sentence using list comprehension.\n",
    "\n",
    "#Code:-\n",
    "\n",
    "s = \"Enter any sentence to check for largest word in string\"\n",
    "\n",
    "l = s.split()\n",
    "\n",
    "longest_Word = max(l, key = len)\n",
    "\n",
    "longest_Word"
   ]
  },
  {
   "cell_type": "code",
   "execution_count": 2,
   "id": "1c815d57-3bdc-453b-b5aa-5fc37099efb5",
   "metadata": {},
   "outputs": [
    {
     "data": {
      "text/plain": [
       "['isiii']"
      ]
     },
     "execution_count": 2,
     "metadata": {},
     "output_type": "execute_result"
    }
   ],
   "source": [
    "# 38. Create a program that filters a list of strings to include only those with more than three vowels using list comprehension.\n",
    "\n",
    "#Code:-\n",
    "\n",
    "vowels = \"aeiouAEIOU\"\n",
    "\n",
    "list_Of_String = [\"My\",\"Name\", \"isiii\", \"Zamin\", \"Abbas\"]\n",
    "\n",
    "list_of_Words = [word for word in list_Of_String if(sum(1 for c in word if c in vowels) >  3)]\n",
    "\n",
    "list_of_Words"
   ]
  },
  {
   "cell_type": "code",
   "execution_count": 2,
   "id": "6707cf0d-b456-4b18-9e99-89a8da396cf9",
   "metadata": {},
   "outputs": [
    {
     "data": {
      "text/plain": [
       "[1,\n",
       " 2,\n",
       " 3,\n",
       " 4,\n",
       " 5,\n",
       " 6,\n",
       " 7,\n",
       " 8,\n",
       " 9,\n",
       " 1,\n",
       " 2,\n",
       " 3,\n",
       " 4,\n",
       " 5,\n",
       " 6,\n",
       " 7,\n",
       " 8,\n",
       " 9,\n",
       " 10,\n",
       " 2,\n",
       " 3,\n",
       " 4,\n",
       " 5,\n",
       " 6,\n",
       " 7,\n",
       " 8,\n",
       " 9,\n",
       " 10,\n",
       " 11,\n",
       " 3,\n",
       " 4,\n",
       " 5,\n",
       " 6,\n",
       " 7,\n",
       " 8,\n",
       " 9,\n",
       " 10,\n",
       " 11,\n",
       " 12,\n",
       " 4,\n",
       " 5,\n",
       " 6,\n",
       " 7,\n",
       " 8,\n",
       " 9,\n",
       " 10,\n",
       " 11,\n",
       " 12,\n",
       " 13,\n",
       " 5,\n",
       " 6,\n",
       " 7,\n",
       " 8,\n",
       " 9,\n",
       " 10,\n",
       " 11,\n",
       " 12,\n",
       " 13,\n",
       " 14,\n",
       " 6,\n",
       " 7,\n",
       " 8,\n",
       " 9,\n",
       " 10,\n",
       " 11,\n",
       " 12,\n",
       " 13,\n",
       " 14,\n",
       " 15,\n",
       " 7,\n",
       " 8,\n",
       " 9,\n",
       " 10,\n",
       " 11,\n",
       " 12,\n",
       " 13,\n",
       " 14,\n",
       " 15,\n",
       " 16,\n",
       " 8,\n",
       " 9,\n",
       " 10,\n",
       " 11,\n",
       " 12,\n",
       " 13,\n",
       " 14,\n",
       " 15,\n",
       " 16,\n",
       " 17,\n",
       " 9,\n",
       " 10,\n",
       " 11,\n",
       " 12,\n",
       " 13,\n",
       " 14,\n",
       " 15,\n",
       " 16,\n",
       " 17,\n",
       " 18,\n",
       " 1]"
      ]
     },
     "execution_count": 2,
     "metadata": {},
     "output_type": "execute_result"
    }
   ],
   "source": [
    "# 39. Develop a program that calculates the sum of the digits of numbers from 1 to 1000 using list comprehension.\n",
    "\n",
    "#Code:-\n",
    "\n",
    "Sum_Of_Digits = [sum(int(digit) for digit in str(num)) for num in range(1,101)]\n",
    "\n",
    "Sum_Of_Digits"
   ]
  },
  {
   "cell_type": "code",
   "execution_count": 7,
   "id": "c6221420-4b62-4069-881b-c5a94d0a9905",
   "metadata": {},
   "outputs": [
    {
     "name": "stdin",
     "output_type": "stream",
     "text": [
      "Enter limit till which you wanna generate prime palindromic numbers 50\n"
     ]
    },
    {
     "data": {
      "text/plain": [
       "[2, 3, 5, 7, 11]"
      ]
     },
     "execution_count": 7,
     "metadata": {},
     "output_type": "execute_result"
    }
   ],
   "source": [
    "# 40. Write a program that generates a list of prime palindromic numbers using list comprehension.\n",
    "\n",
    "#Code:-\n",
    "\n",
    "limit = int(input(\"Enter limit till which you wanna generate prime palindromic numbers\"))\n",
    "\n",
    "prime = [True] * (limit+1)\n",
    "\n",
    "prime[0] = prime[1] = False\n",
    "\n",
    "#Using sieve of eractosthenis\n",
    "for i in range(2, int(limit**0.5) + 1):\n",
    "    \n",
    "    for p in range(i*i,limit+1,i):\n",
    "        prime[p] = False\n",
    "        \n",
    "        \n",
    "prime_numbers = [i for i in range(2,limit+1) if prime[i] == True]\n",
    "\n",
    "prime_palindromic = [i for i in prime_numbers if str(i)[::] == str(i)[::-1]]\n",
    "\n",
    "prime_palindromic"
   ]
  }
 ],
 "metadata": {
  "kernelspec": {
   "display_name": "Python 3 (ipykernel)",
   "language": "python",
   "name": "python3"
  },
  "language_info": {
   "codemirror_mode": {
    "name": "ipython",
    "version": 3
   },
   "file_extension": ".py",
   "mimetype": "text/x-python",
   "name": "python",
   "nbconvert_exporter": "python",
   "pygments_lexer": "ipython3",
   "version": "3.10.8"
  }
 },
 "nbformat": 4,
 "nbformat_minor": 5
}
